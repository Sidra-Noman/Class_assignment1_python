{
  "nbformat": 4,
  "nbformat_minor": 0,
  "metadata": {
    "colab": {
      "provenance": [],
      "authorship_tag": "ABX9TyOzq5xdgFZvSE4Nt8hmnwUx",
      "include_colab_link": true
    },
    "kernelspec": {
      "name": "python3",
      "display_name": "Python 3"
    },
    "language_info": {
      "name": "python"
    }
  },
  "cells": [
    {
      "cell_type": "markdown",
      "metadata": {
        "id": "view-in-github",
        "colab_type": "text"
      },
      "source": [
        "<a href=\"https://colab.research.google.com/github/Sidra-Noman/Class_assignment1_python/blob/main/assignment1.ipynb\" target=\"_parent\"><img src=\"https://colab.research.google.com/assets/colab-badge.svg\" alt=\"Open In Colab\"/></a>"
      ]
    },
    {
      "cell_type": "code",
      "execution_count": null,
      "metadata": {
        "colab": {
          "base_uri": "https://localhost:8080/"
        },
        "id": "2auoRM73xj9P",
        "outputId": "4561fc4c-ae16-422a-a4ec-78cb27887cb3"
      },
      "outputs": [
        {
          "output_type": "stream",
          "name": "stdout",
          "text": [
            "good to see you here\n"
          ]
        }
      ],
      "source": [
        "# Part1 1. Create three different strings using each type of quotation\n",
        "my_greetings=\"good to see you here\"\n",
        "print(my_greetings)"
      ]
    },
    {
      "cell_type": "markdown",
      "source": [],
      "metadata": {
        "id": "V_BvUU5J1F2_"
      }
    },
    {
      "cell_type": "code",
      "source": [
        "myName='Sidra Noman'\n",
        "print(myName)"
      ],
      "metadata": {
        "colab": {
          "base_uri": "https://localhost:8080/"
        },
        "id": "TMddGTlK0QZZ",
        "outputId": "6affac8a-29b2-425b-e849-d1f11e65ba56"
      },
      "execution_count": null,
      "outputs": [
        {
          "output_type": "stream",
          "name": "stdout",
          "text": [
            "Sidra Noman\n"
          ]
        }
      ]
    },
    {
      "cell_type": "code",
      "source": [
        "HolyMonth='''The holy month of Ramadan is a deeply significant time for Muslims around the world. It is a month of fasting, prayer, reflection, and community. During Ramadan, Muslims fast from dawn until sunset, abstaining from food, drink, and other physical needs as an act of spiritual discipline and devotion to Allah. The fast serves not only as a means of self-purification but also fosters empathy for those in need.'''\n",
        "print(HolyMonth)"
      ],
      "metadata": {
        "colab": {
          "base_uri": "https://localhost:8080/"
        },
        "id": "RpHNC-nl0ZmZ",
        "outputId": "f434aea1-d303-40c5-a282-885b2fdbe438"
      },
      "execution_count": null,
      "outputs": [
        {
          "output_type": "stream",
          "name": "stdout",
          "text": [
            "The holy month of Ramadan is a deeply significant time for Muslims around the world. It is a month of fasting, prayer, reflection, and community. During Ramadan, Muslims fast from dawn until sunset, abstaining from food, drink, and other physical needs as an act of spiritual discipline and devotion to Allah. The fast serves not only as a means of self-purification but also fosters empathy for those in need.\n"
          ]
        }
      ]
    },
    {
      "cell_type": "code",
      "source": [],
      "metadata": {
        "id": "34UB56gtzlJF"
      },
      "execution_count": null,
      "outputs": []
    },
    {
      "cell_type": "markdown",
      "source": [
        " Explain in your own words: What is the advantage of each type of quotation?\n",
        "\n",
        "1.  Single Quotation:It is the most compact and commonly used option for\n",
        "defining string which doesn't contain any apostrophe or special characters.\n",
        "Example:name = 'Sidra'\n",
        "\n",
        "2.Double Quotation:It is just like single quotation but it is helpful when a string contains apostrophe/single quotes or special characters.\n",
        "Example::sentence = \"It's a beautiful day!\".\n",
        "\n",
        "3.Triple Quotation:('''or\"\"\"):It is used to define multi lines strings.It can also be used for strings that contain both single and double quotes without needing any escaping.\n",
        "Example:long_text = '''Hello!My name is Sidra Noman.I am frontend developer and off-page Seo Expert.I am a student in GIAIC.'''\n",
        "\n",
        "   \n",
        "\n",
        "\n",
        "\n",
        "\n",
        "\n",
        "\n",
        "\n",
        "\n"
      ],
      "metadata": {
        "id": "PtZbPUYHo3sO"
      }
    },
    {
      "cell_type": "code",
      "source": [
        "my_string  = \"He said, 'I'm going to meet my friend.'\"\n",
        "\n",
        "print(my_string)"
      ],
      "metadata": {
        "colab": {
          "base_uri": "https://localhost:8080/"
        },
        "id": "RQmBXMDmwQpL",
        "outputId": "1e4c9bb8-1199-4b3c-8637-181458eccdd7"
      },
      "execution_count": null,
      "outputs": [
        {
          "output_type": "stream",
          "name": "stdout",
          "text": [
            "He said, 'I'm going to meet my friend.'\n"
          ]
        }
      ]
    },
    {
      "cell_type": "code",
      "source": [
        "MyHobby = \"\"\"As a passionate web developer, teacher, and cook, I find joy in blending creativity with problem-solving in different areas of my life. As a web developer, I enjoy building websites that are both functional and visually appealing, always striving to learn new technologies to enhance my skills. Teaching allows me to share my knowledge and empower others, whether it's helping students grasp complex concepts or guiding them through their own learning journey. Cooking, on the other hand, provides me with an opportunity to experiment with flavors and techniques, creating delicious dishes that bring people together. Each of these hobbies allows me to express my creativity, challenge myself, and continuously grow.\"\"\"\n",
        "print(MyHobby)"
      ],
      "metadata": {
        "colab": {
          "base_uri": "https://localhost:8080/"
        },
        "id": "AAj8am0axa5_",
        "outputId": "8b291f56-1d38-4b9a-83ba-6d92f7db6ee6"
      },
      "execution_count": null,
      "outputs": [
        {
          "output_type": "stream",
          "name": "stdout",
          "text": [
            "As a passionate web developer, teacher, and cook, I find joy in blending creativity with problem-solving in different areas of my life. As a web developer, I enjoy building websites that are both functional and visually appealing, always striving to learn new technologies to enhance my skills. Teaching allows me to share my knowledge and empower others, whether it's helping students grasp complex concepts or guiding them through their own learning journey. Cooking, on the other hand, provides me with an opportunity to experiment with flavors and techniques, creating delicious dishes that bring people together. Each of these hobbies allows me to express my creativity, challenge myself, and continuously grow.\n"
          ]
        }
      ]
    },
    {
      "cell_type": "code",
      "source": [
        "full_name =\"Sidra Noman\"\n",
        "# To upper case\n",
        "print(full_name.upper())\n",
        "# To lower case\n",
        "print(full_name.lower())\n",
        "#  first letter of the first and last name is capitalized\n",
        "print(full_name.title())"
      ],
      "metadata": {
        "colab": {
          "base_uri": "https://localhost:8080/"
        },
        "id": "zOYgUeG71Dws",
        "outputId": "8f69dce3-249c-41cb-b782-6bb04501ee78"
      },
      "execution_count": null,
      "outputs": [
        {
          "output_type": "stream",
          "name": "stdout",
          "text": [
            "SIDRA NOMAN\n",
            "sidra noman\n",
            "Sidra Noman\n"
          ]
        }
      ]
    },
    {
      "cell_type": "code",
      "source": [
        "messy_text = \" Python programming is fun! \"\n",
        "# Remove all the extra spaces at the beginning and end\n",
        "cleaned_text = messy_text.strip()\n",
        "#  Replace \"fun\" with \"amazing\"\n",
        "modified_text = cleaned_text.replace(\"fun\", \"amazing\")\n",
        "# Count how many times the letter 'i' appears\n",
        "i_count = modified_text.count('i')\n",
        "print(\"Cleaned Text:\", cleaned_text)\n",
        "print(\"Modified Text:\", modified_text)\n",
        "print(\"Count of 'i':\", i_count)"
      ],
      "metadata": {
        "colab": {
          "base_uri": "https://localhost:8080/"
        },
        "id": "VeLP1kSV2ar6",
        "outputId": "fccf146f-0634-4619-899c-b803d9ee0cc2"
      },
      "execution_count": null,
      "outputs": [
        {
          "output_type": "stream",
          "name": "stdout",
          "text": [
            "Cleaned Text: Python programming is fun!\n",
            "Modified Text: Python programming is amazing!\n",
            "Count of 'i': 3\n"
          ]
        }
      ]
    },
    {
      "cell_type": "code",
      "source": [
        "sentence = \"The quick brown fox jumps over the lazy dog\"\n",
        "# Split this sentence into a list of words\n",
        "words_list = sentence.split()\n",
        "# Join the words back together with dashes between them\n",
        "joined_sentence = \"-\".join(words_list)\n",
        "#  Check if the sentence starts with \"The\"\n",
        "starts_with = sentence.startswith(\"The\")\n",
        "# Find the position of the word \"fox\"\n",
        "position = sentence.find(\"fox\")\n",
        "print(\"List of words:\", words_list)\n",
        "print(\"Joined sentence with dashes:\", joined_sentence)\n",
        "print(\"Does the sentence start with 'The'? \", starts_with)\n",
        "print(\"Position of 'fox':\", position)"
      ],
      "metadata": {
        "colab": {
          "base_uri": "https://localhost:8080/"
        },
        "id": "1ZeKsVSk3yjj",
        "outputId": "8dfae9f6-4acc-4775-ecd4-9d5fc5f06e7a"
      },
      "execution_count": null,
      "outputs": [
        {
          "output_type": "stream",
          "name": "stdout",
          "text": [
            "List of words: ['The', 'quick', 'brown', 'fox', 'jumps', 'over', 'the', 'lazy', 'dog']\n",
            "Joined sentence with dashes: The-quick-brown-fox-jumps-over-the-lazy-dog\n",
            "Does the sentence start with 'The'?  True\n",
            "Position of 'fox': 16\n"
          ]
        }
      ]
    },
    {
      "cell_type": "code",
      "source": [
        "\n",
        "my_name ='Sidra Noman'\n",
        "my_age=35\n",
        "fav_language = 'Python'\n",
        "# Create the sentences using f-strings\n",
        "sentence1 = f\"My name is {my_name} and I am {my_age} years old.\"\n",
        "sentence2 = f\"In 5 years, I will be {my_age + 5} years old.\"\n",
        "sentence3 = f\"I enjoy programming in {fav_language}.\"\n",
        "print(sentence1)\n",
        "print(sentence2)\n",
        "print(sentence3)\n"
      ],
      "metadata": {
        "colab": {
          "base_uri": "https://localhost:8080/"
        },
        "id": "5VdnQZz058dp",
        "outputId": "e2d13033-c256-4d6d-b090-b5d600694f8e"
      },
      "execution_count": null,
      "outputs": [
        {
          "output_type": "stream",
          "name": "stdout",
          "text": [
            "My name is Sidra Noman and I am 35 years old.\n",
            "In 5 years, I will be 40 years old.\n",
            "I enjoy programming in Python.\n"
          ]
        }
      ]
    },
    {
      "cell_type": "code",
      "source": [
        "# user input\n",
        "first_name = input(\"Enter your first name: \")\n",
        "last_name = input(\"Enter your last name: \")\n",
        "birth_year = int(input(\"Enter your birth year: \"))\n",
        "# Capitalize the first and last name using string methods\n",
        "first_name = first_name.capitalize()\n",
        "last_name = last_name.capitalize()\n",
        "# Calculate the user's age\n",
        "current_year = 2025\n",
        "age = current_year - birth_year\n",
        "# Create the username (first initial + last name + birth year)\n",
        "username = first_name[0].lower() + last_name.lower() + str(birth_year)\n",
        "# Create the profile message\n",
        "profile_message = f\"Profile: {first_name} {last_name}, Age: {age}, Username: {username}\"\n",
        "print(profile_message)\n"
      ],
      "metadata": {
        "colab": {
          "base_uri": "https://localhost:8080/"
        },
        "id": "3fE6Z1lQ8t6B",
        "outputId": "bb875371-5620-40a1-f02d-41349264cc29"
      },
      "execution_count": null,
      "outputs": [
        {
          "output_type": "stream",
          "name": "stdout",
          "text": [
            "Enter your first name: Sidra\n",
            "Enter your last name: Noman\n",
            "Enter your birth year: 1989\n",
            "Profile: Sidra Noman, Age: 36, Username: snoman1989\n"
          ]
        }
      ]
    }
  ]
}